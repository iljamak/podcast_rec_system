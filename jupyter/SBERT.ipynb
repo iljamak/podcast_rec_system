{
 "cells": [
  {
   "cell_type": "code",
   "execution_count": 1,
   "id": "5405a95c",
   "metadata": {
    "scrolled": true
   },
   "outputs": [
    {
     "name": "stderr",
     "output_type": "stream",
     "text": [
      "C:\\PodRec\\main\\venv\\Lib\\site-packages\\sentence_transformers\\cross_encoder\\CrossEncoder.py:11: TqdmWarning: IProgress not found. Please update jupyter and ipywidgets. See https://ipywidgets.readthedocs.io/en/stable/user_install.html\n",
      "  from tqdm.autonotebook import tqdm, trange\n"
     ]
    },
    {
     "data": {
      "text/plain": [
       "'\\nThe hardest thing about this part was to find out about existence of SBERT :D\\n'"
      ]
     },
     "execution_count": 1,
     "metadata": {},
     "output_type": "execute_result"
    }
   ],
   "source": [
    "import pandas as pd\n",
    "import numpy as np\n",
    "from sentence_transformers import SentenceTransformer\n",
    "'''\n",
    "The hardest thing about this part was to find out about existence of SBERT :D\n",
    "'''"
   ]
  },
  {
   "cell_type": "code",
   "execution_count": 2,
   "id": "7ae19a38",
   "metadata": {},
   "outputs": [],
   "source": [
    "from sklearn.metrics.pairwise import cosine_similarity"
   ]
  },
  {
   "cell_type": "code",
   "execution_count": null,
   "id": "55690843-9334-4ac6-b4bd-707ac23615ec",
   "metadata": {},
   "outputs": [],
   "source": []
  },
  {
   "cell_type": "code",
   "execution_count": 3,
   "id": "8453d6b3",
   "metadata": {},
   "outputs": [],
   "source": [
    "model = SentenceTransformer('all-MiniLM-L6-v2')\n",
    "df = pd.read_csv('../datasets/podcasts.csv')\n",
    "emb = np.load('../datasets/sbert_embeddings.npy')"
   ]
  },
  {
   "cell_type": "code",
   "execution_count": 4,
   "id": "df23523d-5d97-4018-af84-a302d614fcee",
   "metadata": {},
   "outputs": [],
   "source": [
    "text = \"podcast about scientifical approach to health and biohacking\""
   ]
  },
  {
   "cell_type": "code",
   "execution_count": 7,
   "id": "6ceee41b",
   "metadata": {},
   "outputs": [],
   "source": [
    "res = model.encode(text)"
   ]
  },
  {
   "cell_type": "code",
   "execution_count": 8,
   "id": "db0639ab",
   "metadata": {},
   "outputs": [
    {
     "data": {
      "text/plain": [
       "(384,)"
      ]
     },
     "execution_count": 8,
     "metadata": {},
     "output_type": "execute_result"
    }
   ],
   "source": [
    "res.shape"
   ]
  },
  {
   "cell_type": "code",
   "execution_count": 9,
   "id": "91d5608e",
   "metadata": {},
   "outputs": [],
   "source": [
    "example = df['description'][0]\n"
   ]
  },
  {
   "cell_type": "code",
   "execution_count": 10,
   "id": "123bfd86",
   "metadata": {},
   "outputs": [
    {
     "data": {
      "text/plain": [
       "(384,)"
      ]
     },
     "execution_count": 10,
     "metadata": {},
     "output_type": "execute_result"
    }
   ],
   "source": [
    "emb[0].shape"
   ]
  },
  {
   "cell_type": "code",
   "execution_count": 11,
   "id": "e4236fe2",
   "metadata": {},
   "outputs": [
    {
     "data": {
      "text/plain": [
       "0.2840082"
      ]
     },
     "execution_count": 11,
     "metadata": {},
     "output_type": "execute_result"
    }
   ],
   "source": [
    "cosine_similarity(res.reshape(1,-1),emb[0].reshape(1,-1))[0][0] #ok "
   ]
  },
  {
   "cell_type": "code",
   "execution_count": 12,
   "id": "b628bc9e",
   "metadata": {},
   "outputs": [],
   "source": [
    "cosine_similarity_user = []\n",
    "for index,embedding in enumerate(emb):\n",
    "    cosine_similarity_user.append((index,cosine_similarity(res.reshape(1,-1),embedding.reshape(1,-1))[0][0]))"
   ]
  },
  {
   "cell_type": "code",
   "execution_count": 13,
   "id": "4d5cc30f",
   "metadata": {},
   "outputs": [],
   "source": [
    "cosine_similariry_user = sorted(cosine_similarity_user,key=lambda x:x[1],reverse=True)"
   ]
  },
  {
   "cell_type": "code",
   "execution_count": 14,
   "id": "1921a66a",
   "metadata": {},
   "outputs": [
    {
     "data": {
      "text/plain": [
       "[(12397, 0.73682666),\n",
       " (8678, 0.7367557),\n",
       " (5387, 0.7330305),\n",
       " (4028, 0.7224921),\n",
       " (6451, 0.7043869),\n",
       " (4992, 0.7002674),\n",
       " (6607, 0.6950602),\n",
       " (12959, 0.6894901),\n",
       " (2131, 0.6878042),\n",
       " (7014, 0.6876585)]"
      ]
     },
     "execution_count": 14,
     "metadata": {},
     "output_type": "execute_result"
    }
   ],
   "source": [
    "cosine_similariry_user[:10]"
   ]
  },
  {
   "cell_type": "code",
   "execution_count": 15,
   "id": "68aa6332",
   "metadata": {},
   "outputs": [],
   "source": [
    "cosine_similarity_matrix = cosine_similarity(emb)"
   ]
  },
  {
   "cell_type": "code",
   "execution_count": 16,
   "id": "a1d74ef0",
   "metadata": {},
   "outputs": [],
   "source": [
    "np.save('cos_sim_sbert.npy',cosine_similarity_matrix)"
   ]
  },
  {
   "cell_type": "code",
   "execution_count": 17,
   "id": "8f958864",
   "metadata": {},
   "outputs": [],
   "source": [
    "# function, that i later copypasted to quering_functions in 'main', not important\n",
    "def get_sbert_top(dataset,itunes_id,sbert_cos_sim,top=10):\n",
    "    row = dataset[dataset['itunes_id'] == itunes_id]\n",
    "    if not row.empty:\n",
    "        row = row.index[0]\n",
    "    else:\n",
    "        row = None\n",
    "        return None\n",
    "\n",
    "    indexed_embeddings = set((i,sbert_cos_sim[row][i]) for i in range(len(sbert_cos_sim[row])))\n",
    "    sorted_emb = sorted(indexed_embeddings,key=lambda item:item[1],reverse=True)\n",
    "    print(\"sort_emb first 10\",sorted_emb[:10])\n",
    "    print(\"sort_emb last 10\",sorted_emb[-10:])\n",
    "    sorted_emb = sorted_emb[:top]\n",
    "    indicies = [sorted_emb[i][0] for i  in range(len(sorted_emb))]\n",
    "    return dataset.iloc[indicies,:]"
   ]
  },
  {
   "cell_type": "code",
   "execution_count": 18,
   "id": "55c35d15",
   "metadata": {},
   "outputs": [
    {
     "name": "stdout",
     "output_type": "stream",
     "text": [
      "sort_emb first 10 [(14199, 1.0000001), (10556, 0.5546344), (10483, 0.5343531), (7723, 0.5286615), (10279, 0.51388395), (5283, 0.51190776), (10055, 0.50965255), (6329, 0.50441176), (12340, 0.502966), (10318, 0.49014422)]\n",
      "sort_emb last 10 [(8909, -0.10837166), (9828, -0.1097804), (5890, -0.110543095), (8198, -0.1114791), (9322, -0.11215882), (558, -0.11721636), (12302, -0.11826211), (4556, -0.123417065), (667, -0.124815255), (5999, -0.13890886)]\n"
     ]
    },
    {
     "data": {
      "text/html": [
       "<div>\n",
       "<style scoped>\n",
       "    .dataframe tbody tr th:only-of-type {\n",
       "        vertical-align: middle;\n",
       "    }\n",
       "\n",
       "    .dataframe tbody tr th {\n",
       "        vertical-align: top;\n",
       "    }\n",
       "\n",
       "    .dataframe thead th {\n",
       "        text-align: right;\n",
       "    }\n",
       "</style>\n",
       "<table border=\"1\" class=\"dataframe\">\n",
       "  <thead>\n",
       "    <tr style=\"text-align: right;\">\n",
       "      <th></th>\n",
       "      <th>Unnamed: 0</th>\n",
       "      <th>podcast_name</th>\n",
       "      <th>podtail_link</th>\n",
       "      <th>itunes_id</th>\n",
       "      <th>podcastindex_id</th>\n",
       "      <th>description</th>\n",
       "      <th>rss_link</th>\n",
       "      <th>language</th>\n",
       "      <th>categories</th>\n",
       "      <th>number_of_podcasts</th>\n",
       "      <th>rating</th>\n",
       "      <th>number_of_reviews</th>\n",
       "      <th>index_description</th>\n",
       "    </tr>\n",
       "  </thead>\n",
       "  <tbody>\n",
       "    <tr>\n",
       "      <th>14199</th>\n",
       "      <td>14199</td>\n",
       "      <td>How To Buy a House</td>\n",
       "      <td>https://podtail.com/podcast/how-to-buy-a-house-1/</td>\n",
       "      <td>1705752628</td>\n",
       "      <td>6599180</td>\n",
       "      <td>A simple \"How To\" Guide on how to buy a house ...</td>\n",
       "      <td>https://www.spreaker.com/show/5946861/episodes...</td>\n",
       "      <td>en</td>\n",
       "      <td>Education,Business,Investing,Entrepreneurship,...</td>\n",
       "      <td>1.0</td>\n",
       "      <td>0.0</td>\n",
       "      <td>0.0</td>\n",
       "      <td>[5, 837, 105, 3, 1614, 9, 105, 3, 1508, 5, 422...</td>\n",
       "    </tr>\n",
       "    <tr>\n",
       "      <th>10556</th>\n",
       "      <td>10556</td>\n",
       "      <td>The Real Estate Sales Podcast</td>\n",
       "      <td>https://podtail.com/podcast/the-real-estate-sa...</td>\n",
       "      <td>1534461762</td>\n",
       "      <td>2136156</td>\n",
       "      <td>The Real Estate Sales Podcast is designed to p...</td>\n",
       "      <td>https://therealestatesalespodcast.libsyn.com/rss</td>\n",
       "      <td>en</td>\n",
       "      <td>Business</td>\n",
       "      <td>100.0</td>\n",
       "      <td>4.9</td>\n",
       "      <td>72.0</td>\n",
       "      <td>[0, 406, 2668, 938, 9868, 7, 1577, 3, 354, 158...</td>\n",
       "    </tr>\n",
       "    <tr>\n",
       "      <th>10483</th>\n",
       "      <td>10483</td>\n",
       "      <td>Financial Survival Network</td>\n",
       "      <td>https://podtail.com/podcast/financial-survival...</td>\n",
       "      <td>485166512</td>\n",
       "      <td>848654</td>\n",
       "      <td>A show about how to thrive in the New Economy....</td>\n",
       "      <td>https://www.spreaker.com/show/3244966/episodes...</td>\n",
       "      <td>en</td>\n",
       "      <td>Business</td>\n",
       "      <td>1000.0</td>\n",
       "      <td>4.7</td>\n",
       "      <td>118.0</td>\n",
       "      <td>[5, 194, 31, 105, 3, 11488, 4, 0, 86, 671, 12,...</td>\n",
       "    </tr>\n",
       "    <tr>\n",
       "      <th>7723</th>\n",
       "      <td>7723</td>\n",
       "      <td>The Nick Huber Show</td>\n",
       "      <td>https://podtail.com/podcast/the-nick-huber-show/</td>\n",
       "      <td>1576120606</td>\n",
       "      <td>4084483</td>\n",
       "      <td>The Nick Huber show is a short-form podcast on...</td>\n",
       "      <td>https://nickhubershow.libsyn.com/rss</td>\n",
       "      <td>en</td>\n",
       "      <td>Business</td>\n",
       "      <td>100.0</td>\n",
       "      <td>4.7</td>\n",
       "      <td>50.0</td>\n",
       "      <td>[0, 194, 7, 5, 737, 302, 9868, 9, 406, 2668, 1...</td>\n",
       "    </tr>\n",
       "    <tr>\n",
       "      <th>10279</th>\n",
       "      <td>10279</td>\n",
       "      <td>Creating Wealth Simplified</td>\n",
       "      <td>https://podtail.com/podcast/creating-wealth-si...</td>\n",
       "      <td>1442697566</td>\n",
       "      <td>337112</td>\n",
       "      <td>Welcome to Creating Wealth Simplified, a podca...</td>\n",
       "      <td>https://www.podetize.com/good-deeds-note-inves...</td>\n",
       "      <td>en-us</td>\n",
       "      <td>Business,Investing,Careers,Entrepreneurship</td>\n",
       "      <td>258.0</td>\n",
       "      <td>5.0</td>\n",
       "      <td>89.0</td>\n",
       "      <td>[315, 3, 1107, 2365, 8516, 5, 9868, 6, 5370, 2...</td>\n",
       "    </tr>\n",
       "    <tr>\n",
       "      <th>5283</th>\n",
       "      <td>5283</td>\n",
       "      <td>The Evernest Real Estate Investor</td>\n",
       "      <td>https://podtail.com/podcast/the-evernest-real-...</td>\n",
       "      <td>1589852515</td>\n",
       "      <td>4403924</td>\n",
       "      <td>Are you a new investor looking to buy your fir...</td>\n",
       "      <td>https://evernestrealestateinvestor.libsyn.com/rss</td>\n",
       "      <td>en</td>\n",
       "      <td>Business,Investing,Education,How To</td>\n",
       "      <td>100.0</td>\n",
       "      <td>4.8</td>\n",
       "      <td>17.0</td>\n",
       "      <td>[21, 20, 5, 86, 6280, 1006, 3, 1508, 38, 88, 8...</td>\n",
       "    </tr>\n",
       "    <tr>\n",
       "      <th>10055</th>\n",
       "      <td>10055</td>\n",
       "      <td>How to Sell</td>\n",
       "      <td>https://podtail.com/podcast/sales-iq-podcast/</td>\n",
       "      <td>1444853887</td>\n",
       "      <td>1009054</td>\n",
       "      <td>How to Sell brings you weekly interviews with ...</td>\n",
       "      <td>https://feeds.captivate.fm/salesiqpodcast/</td>\n",
       "      <td>en</td>\n",
       "      <td>Business,Entrepreneurship,Marketing</td>\n",
       "      <td>223.0</td>\n",
       "      <td>4.8</td>\n",
       "      <td>85.0</td>\n",
       "      <td>[105, 3, 2051, 2883, 20, 3845, 2944, 10, 0, 10...</td>\n",
       "    </tr>\n",
       "    <tr>\n",
       "      <th>6329</th>\n",
       "      <td>6329</td>\n",
       "      <td>Jason Hartman's Quick Start Podcast</td>\n",
       "      <td>https://podtail.com/podcast/jason-hartman-s-qu...</td>\n",
       "      <td>1441016571</td>\n",
       "      <td>238397</td>\n",
       "      <td>Find all the episodes from Jason Hartman that ...</td>\n",
       "      <td>https://quick.libsyn.com/rss</td>\n",
       "      <td>en</td>\n",
       "      <td>Business,Investing,Education</td>\n",
       "      <td>66.0</td>\n",
       "      <td>4.9</td>\n",
       "      <td>13.0</td>\n",
       "      <td>[254, 26, 0, 2348, 16, 6, 39, 3684, 20, 0, 210...</td>\n",
       "    </tr>\n",
       "    <tr>\n",
       "      <th>12340</th>\n",
       "      <td>12340</td>\n",
       "      <td>Your Home</td>\n",
       "      <td>https://podtail.com/podcast/your-home/</td>\n",
       "      <td>1515183398</td>\n",
       "      <td>451833</td>\n",
       "      <td>We delve into the Real Estate and Auction mark...</td>\n",
       "      <td>https://rss.whooshkaa.com/rss/podcast/id/12592</td>\n",
       "      <td>en-us</td>\n",
       "      <td>News,Business</td>\n",
       "      <td>43.0</td>\n",
       "      <td>0.0</td>\n",
       "      <td>0.0</td>\n",
       "      <td>[71, 21517, 69, 0, 406, 2668, 1, 5398, 367, 8,...</td>\n",
       "    </tr>\n",
       "    <tr>\n",
       "      <th>10318</th>\n",
       "      <td>10318</td>\n",
       "      <td>Commercial Real Estate Investing From A-Z</td>\n",
       "      <td>https://podtail.com/podcast/commercial-real-es...</td>\n",
       "      <td>1451874700</td>\n",
       "      <td>569814</td>\n",
       "      <td>Getting started with Commercial Real Estate In...</td>\n",
       "      <td>https://anchor.fm/s/558aa20/podcast/rss</td>\n",
       "      <td>en</td>\n",
       "      <td>Business,Investing,Education,How To</td>\n",
       "      <td>177.0</td>\n",
       "      <td>4.9</td>\n",
       "      <td>142.0</td>\n",
       "      <td>[480, 334, 10, 1332, 406, 2668, 6940, 13, 33, ...</td>\n",
       "    </tr>\n",
       "  </tbody>\n",
       "</table>\n",
       "</div>"
      ],
      "text/plain": [
       "       Unnamed: 0                               podcast_name  \\\n",
       "14199       14199                         How To Buy a House   \n",
       "10556       10556              The Real Estate Sales Podcast   \n",
       "10483       10483                 Financial Survival Network   \n",
       "7723         7723                        The Nick Huber Show   \n",
       "10279       10279                 Creating Wealth Simplified   \n",
       "5283         5283          The Evernest Real Estate Investor   \n",
       "10055       10055                                How to Sell   \n",
       "6329         6329        Jason Hartman's Quick Start Podcast   \n",
       "12340       12340                                  Your Home   \n",
       "10318       10318  Commercial Real Estate Investing From A-Z   \n",
       "\n",
       "                                            podtail_link   itunes_id  \\\n",
       "14199  https://podtail.com/podcast/how-to-buy-a-house-1/  1705752628   \n",
       "10556  https://podtail.com/podcast/the-real-estate-sa...  1534461762   \n",
       "10483  https://podtail.com/podcast/financial-survival...   485166512   \n",
       "7723    https://podtail.com/podcast/the-nick-huber-show/  1576120606   \n",
       "10279  https://podtail.com/podcast/creating-wealth-si...  1442697566   \n",
       "5283   https://podtail.com/podcast/the-evernest-real-...  1589852515   \n",
       "10055      https://podtail.com/podcast/sales-iq-podcast/  1444853887   \n",
       "6329   https://podtail.com/podcast/jason-hartman-s-qu...  1441016571   \n",
       "12340             https://podtail.com/podcast/your-home/  1515183398   \n",
       "10318  https://podtail.com/podcast/commercial-real-es...  1451874700   \n",
       "\n",
       "       podcastindex_id                                        description  \\\n",
       "14199          6599180  A simple \"How To\" Guide on how to buy a house ...   \n",
       "10556          2136156  The Real Estate Sales Podcast is designed to p...   \n",
       "10483           848654  A show about how to thrive in the New Economy....   \n",
       "7723           4084483  The Nick Huber show is a short-form podcast on...   \n",
       "10279           337112  Welcome to Creating Wealth Simplified, a podca...   \n",
       "5283           4403924  Are you a new investor looking to buy your fir...   \n",
       "10055          1009054  How to Sell brings you weekly interviews with ...   \n",
       "6329            238397  Find all the episodes from Jason Hartman that ...   \n",
       "12340           451833  We delve into the Real Estate and Auction mark...   \n",
       "10318           569814  Getting started with Commercial Real Estate In...   \n",
       "\n",
       "                                                rss_link language  \\\n",
       "14199  https://www.spreaker.com/show/5946861/episodes...       en   \n",
       "10556   https://therealestatesalespodcast.libsyn.com/rss       en   \n",
       "10483  https://www.spreaker.com/show/3244966/episodes...       en   \n",
       "7723                https://nickhubershow.libsyn.com/rss       en   \n",
       "10279  https://www.podetize.com/good-deeds-note-inves...    en-us   \n",
       "5283   https://evernestrealestateinvestor.libsyn.com/rss       en   \n",
       "10055         https://feeds.captivate.fm/salesiqpodcast/       en   \n",
       "6329                        https://quick.libsyn.com/rss       en   \n",
       "12340     https://rss.whooshkaa.com/rss/podcast/id/12592    en-us   \n",
       "10318            https://anchor.fm/s/558aa20/podcast/rss       en   \n",
       "\n",
       "                                              categories  number_of_podcasts  \\\n",
       "14199  Education,Business,Investing,Entrepreneurship,...                 1.0   \n",
       "10556                                           Business               100.0   \n",
       "10483                                           Business              1000.0   \n",
       "7723                                            Business               100.0   \n",
       "10279        Business,Investing,Careers,Entrepreneurship               258.0   \n",
       "5283                 Business,Investing,Education,How To               100.0   \n",
       "10055                Business,Entrepreneurship,Marketing               223.0   \n",
       "6329                        Business,Investing,Education                66.0   \n",
       "12340                                      News,Business                43.0   \n",
       "10318                Business,Investing,Education,How To               177.0   \n",
       "\n",
       "       rating  number_of_reviews  \\\n",
       "14199     0.0                0.0   \n",
       "10556     4.9               72.0   \n",
       "10483     4.7              118.0   \n",
       "7723      4.7               50.0   \n",
       "10279     5.0               89.0   \n",
       "5283      4.8               17.0   \n",
       "10055     4.8               85.0   \n",
       "6329      4.9               13.0   \n",
       "12340     0.0                0.0   \n",
       "10318     4.9              142.0   \n",
       "\n",
       "                                       index_description  \n",
       "14199  [5, 837, 105, 3, 1614, 9, 105, 3, 1508, 5, 422...  \n",
       "10556  [0, 406, 2668, 938, 9868, 7, 1577, 3, 354, 158...  \n",
       "10483  [5, 194, 31, 105, 3, 11488, 4, 0, 86, 671, 12,...  \n",
       "7723   [0, 194, 7, 5, 737, 302, 9868, 9, 406, 2668, 1...  \n",
       "10279  [315, 3, 1107, 2365, 8516, 5, 9868, 6, 5370, 2...  \n",
       "5283   [21, 20, 5, 86, 6280, 1006, 3, 1508, 38, 88, 8...  \n",
       "10055  [105, 3, 2051, 2883, 20, 3845, 2944, 10, 0, 10...  \n",
       "6329   [254, 26, 0, 2348, 16, 6, 39, 3684, 20, 0, 210...  \n",
       "12340  [71, 21517, 69, 0, 406, 2668, 1, 5398, 367, 8,...  \n",
       "10318  [480, 334, 10, 1332, 406, 2668, 6940, 13, 33, ...  "
      ]
     },
     "execution_count": 18,
     "metadata": {},
     "output_type": "execute_result"
    }
   ],
   "source": [
    "get_sbert_top(df,1705752628\t,cosine_similarity_matrix,10)"
   ]
  },
  {
   "cell_type": "code",
   "execution_count": 19,
   "id": "b194837f",
   "metadata": {},
   "outputs": [
    {
     "data": {
      "text/html": [
       "<div>\n",
       "<style scoped>\n",
       "    .dataframe tbody tr th:only-of-type {\n",
       "        vertical-align: middle;\n",
       "    }\n",
       "\n",
       "    .dataframe tbody tr th {\n",
       "        vertical-align: top;\n",
       "    }\n",
       "\n",
       "    .dataframe thead th {\n",
       "        text-align: right;\n",
       "    }\n",
       "</style>\n",
       "<table border=\"1\" class=\"dataframe\">\n",
       "  <thead>\n",
       "    <tr style=\"text-align: right;\">\n",
       "      <th></th>\n",
       "      <th>Unnamed: 0</th>\n",
       "      <th>podcast_name</th>\n",
       "      <th>podtail_link</th>\n",
       "      <th>itunes_id</th>\n",
       "      <th>podcastindex_id</th>\n",
       "      <th>description</th>\n",
       "      <th>rss_link</th>\n",
       "      <th>language</th>\n",
       "      <th>categories</th>\n",
       "      <th>number_of_podcasts</th>\n",
       "      <th>rating</th>\n",
       "      <th>number_of_reviews</th>\n",
       "      <th>index_description</th>\n",
       "    </tr>\n",
       "  </thead>\n",
       "  <tbody>\n",
       "    <tr>\n",
       "      <th>0</th>\n",
       "      <td>0</td>\n",
       "      <td>Dateline NBC</td>\n",
       "      <td>https://podtail.com/podcast/dateline-nbc/</td>\n",
       "      <td>1464919521</td>\n",
       "      <td>945141</td>\n",
       "      <td>Current and classic episodes, featuring compel...</td>\n",
       "      <td>https://podcastfeeds.nbcnews.com/dateline-nbc</td>\n",
       "      <td>en</td>\n",
       "      <td>News,Society,Culture,True Crime</td>\n",
       "      <td>469.0</td>\n",
       "      <td>4.4</td>\n",
       "      <td>34700.0</td>\n",
       "      <td>[343, 1, 2989, 2348, 2421, 5975, 506, 1256, 11...</td>\n",
       "    </tr>\n",
       "  </tbody>\n",
       "</table>\n",
       "</div>"
      ],
      "text/plain": [
       "   Unnamed: 0  podcast_name                               podtail_link  \\\n",
       "0           0  Dateline NBC  https://podtail.com/podcast/dateline-nbc/   \n",
       "\n",
       "    itunes_id  podcastindex_id  \\\n",
       "0  1464919521           945141   \n",
       "\n",
       "                                         description  \\\n",
       "0  Current and classic episodes, featuring compel...   \n",
       "\n",
       "                                        rss_link language  \\\n",
       "0  https://podcastfeeds.nbcnews.com/dateline-nbc       en   \n",
       "\n",
       "                        categories  number_of_podcasts  rating  \\\n",
       "0  News,Society,Culture,True Crime               469.0     4.4   \n",
       "\n",
       "   number_of_reviews                                  index_description  \n",
       "0            34700.0  [343, 1, 2989, 2348, 2421, 5975, 506, 1256, 11...  "
      ]
     },
     "execution_count": 19,
     "metadata": {},
     "output_type": "execute_result"
    }
   ],
   "source": [
    "df[df['podcast_name'].str.contains(\"Dateline NBC\")] # better that starting with for finding podcast by user"
   ]
  },
  {
   "cell_type": "code",
   "execution_count": null,
   "id": "501c5563",
   "metadata": {},
   "outputs": [],
   "source": []
  }
 ],
 "metadata": {
  "kernelspec": {
   "display_name": "Python 3 (ipykernel)",
   "language": "python",
   "name": "python3"
  },
  "language_info": {
   "codemirror_mode": {
    "name": "ipython",
    "version": 3
   },
   "file_extension": ".py",
   "mimetype": "text/x-python",
   "name": "python",
   "nbconvert_exporter": "python",
   "pygments_lexer": "ipython3",
   "version": "3.12.2"
  }
 },
 "nbformat": 4,
 "nbformat_minor": 5
}
