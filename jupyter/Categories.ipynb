{
 "cells": [
  {
   "cell_type": "code",
   "execution_count": 1,
   "id": "6b91f0bf",
   "metadata": {},
   "outputs": [
    {
     "data": {
      "text/plain": [
       "'\\nNotebook might not work as expected, because i was moving it, so paths might be incoherent. All datasets are now stored in \\n    \"main/datasets\"\\n    \\nHere i was gathering intuition on what categories can be encountered and how i can leverage them for predictions\\nOuttake: multiple categories for each podcast, up to 5-6. Recommend on overlap of categories? \\n'"
      ]
     },
     "execution_count": 1,
     "metadata": {},
     "output_type": "execute_result"
    }
   ],
   "source": [
    "import pandas as pd\n",
    "import numpy as np\n",
    "from functools import reduce\n",
    "from collections import defaultdict\n",
    "import matplotlib.pyplot as plt\n",
    "\n",
    "'''\n",
    "Notebook might not work as expected, because i was moving it, so paths might be incoherent. All datasets are now stored in \n",
    "    \"main/datasets\"\n",
    "    \n",
    "Here i was gathering intuition on what categories can be encountered and how i can leverage them for predictions\n",
    "Outtake: multiple categories for each podcast, up to 5-6. Recommend on overlap of categories? \n",
    "'''\n",
    "\n"
   ]
  },
  {
   "cell_type": "code",
   "execution_count": 3,
   "id": "c06d7775",
   "metadata": {},
   "outputs": [],
   "source": [
    "dataset = pd.read_csv(\"../datasets/finalAndRatings.csv\")"
   ]
  },
  {
   "cell_type": "code",
   "execution_count": 4,
   "id": "e70165e9",
   "metadata": {},
   "outputs": [],
   "source": [
    "#in my ds categories are stored as a string with categories seprated by ','\n",
    "categories_count = defaultdict(int)\n",
    "for row in dataset['categories']:\n",
    "    categories = row.split(',')\n",
    "    for category in categories:\n",
    "        categories_count[category]+=1\n"
   ]
  },
  {
   "cell_type": "code",
   "execution_count": 5,
   "id": "ac748818",
   "metadata": {},
   "outputs": [
    {
     "name": "stdout",
     "output_type": "stream",
     "text": [
      "News is occuring 2361 times\n",
      "Society is occuring 4081 times\n",
      "Culture is occuring 4025 times\n",
      "True Crime is occuring 384 times\n",
      "Comedy is occuring 1809 times\n",
      "Education is occuring 2971 times\n",
      "Daily is occuring 120 times\n",
      "Leisure is occuring 1119 times\n",
      "Games is occuring 457 times\n",
      "Religion is occuring 1254 times\n",
      "Spirituality is occuring 1237 times\n",
      "Christianity is occuring 516 times\n",
      "Arts is occuring 2077 times\n",
      "Books is occuring 442 times\n",
      "Tv is occuring 1341 times\n",
      "Film is occuring 1332 times\n",
      "Science is occuring 1425 times\n",
      "Social is occuring 323 times\n",
      "Performing is occuring 507 times\n",
      "Documentary is occuring 400 times\n",
      "Stand-up is occuring 86 times\n",
      "Technology is occuring 563 times\n",
      "Philosophy is occuring 528 times\n",
      "Natural is occuring 210 times\n",
      "History is occuring 807 times\n",
      "Entertainment is occuring 370 times\n",
      "Fiction is occuring 421 times\n",
      "Government is occuring 277 times\n",
      "Commentary is occuring 498 times\n",
      "Sports is occuring 1092 times\n",
      "Football is occuring 159 times\n",
      "Interviews is occuring 672 times\n",
      "Personal is occuring 671 times\n",
      "Journals is occuring 625 times\n",
      "Health is occuring 2405 times\n",
      "Fitness is occuring 2295 times\n",
      "Medicine is occuring 530 times\n",
      "Life is occuring 170 times\n",
      "Business is occuring 2484 times\n",
      "Entrepreneurship is occuring 747 times\n",
      "Music is occuring 637 times\n",
      "Self Improvement is occuring 1277 times\n",
      "Drama is occuring 116 times\n",
      "Places is occuring 459 times\n",
      "Sexuality is occuring 235 times\n",
      "Politics is occuring 549 times\n",
      "Relationships is occuring 520 times\n",
      "Nature is occuring 172 times\n",
      "Hockey is occuring 54 times\n",
      "Basketball is occuring 83 times\n",
      "Fantasy is occuring 39 times\n",
      "Wrestling is occuring 79 times\n",
      "Alternative is occuring 366 times\n",
      "Mental is occuring 746 times\n",
      "Improv is occuring 276 times\n",
      "Investing is occuring 299 times\n",
      "How To is occuring 317 times\n",
      "Earth is occuring 60 times\n",
      "Reviews is occuring 526 times\n",
      "Automotive is occuring 79 times\n",
      "Video Games is occuring 192 times\n",
      "Animation is occuring 80 times\n",
      "Manga is occuring 78 times\n",
      "Hobbies is occuring 481 times\n",
      "Careers is occuring 434 times\n",
      "Management is occuring 364 times\n",
      "Non-profit is occuring 208 times\n",
      "Kids is occuring 770 times\n",
      "Family is occuring 746 times\n",
      "Parenting is occuring 334 times\n",
      "Design is occuring 172 times\n",
      "Fashion is occuring 165 times\n",
      "Beauty is occuring 162 times\n",
      "Running is occuring 30 times\n",
      "Travel is occuring 436 times\n",
      "Home is occuring 59 times\n",
      "Garden is occuring 54 times\n",
      "Physics is occuring 35 times\n",
      "Mathematics is occuring 13 times\n",
      "After-Shows is occuring 90 times\n",
      "Courses is occuring 151 times\n",
      "Marketing is occuring 354 times\n",
      "Language is occuring 81 times\n",
      "Learning is occuring 72 times\n",
      "Chemistry is occuring 18 times\n",
      "Stories is occuring 68 times\n",
      "Pets is occuring 92 times\n",
      "Animals is occuring 88 times\n",
      "Tennis is occuring 16 times\n",
      "Wilderness is occuring 105 times\n",
      "Soccer is occuring 130 times\n",
      "Golf is occuring 17 times\n",
      "Visual is occuring 259 times\n",
      "Nutrition is occuring 194 times\n",
      "Aviation is occuring 12 times\n",
      "Astronomy is occuring 41 times\n",
      "Food is occuring 231 times\n",
      "Buddhism is occuring 48 times\n",
      "Hinduism is occuring 4 times\n",
      "Baseball is occuring 41 times\n",
      "Cricket is occuring 5 times\n",
      "Islam is occuring 42 times\n",
      "Rugby is occuring 15 times\n",
      "Judaism is occuring 49 times\n",
      "Crafts is occuring 11 times\n",
      "Swimming is occuring 2 times\n"
     ]
    }
   ],
   "source": [
    "for k,v in categories_count.items():\n",
    "    print(f\"{k} is occuring {v} times\")"
   ]
  },
  {
   "cell_type": "code",
   "execution_count": 6,
   "id": "c3d6ab3e",
   "metadata": {},
   "outputs": [],
   "source": [
    "count_list = list((k,v) for k,v in categories_count.items())"
   ]
  },
  {
   "cell_type": "code",
   "execution_count": 7,
   "id": "9b060508",
   "metadata": {},
   "outputs": [],
   "source": [
    "count_list = sorted(count_list,key=lambda x:x[1])\n"
   ]
  },
  {
   "cell_type": "code",
   "execution_count": 8,
   "id": "c1576403",
   "metadata": {},
   "outputs": [
    {
     "data": {
      "text/plain": [
       "[('Swimming', 2),\n",
       " ('Hinduism', 4),\n",
       " ('Cricket', 5),\n",
       " ('Crafts', 11),\n",
       " ('Aviation', 12),\n",
       " ('Mathematics', 13),\n",
       " ('Rugby', 15),\n",
       " ('Tennis', 16),\n",
       " ('Golf', 17),\n",
       " ('Chemistry', 18),\n",
       " ('Running', 30),\n",
       " ('Physics', 35),\n",
       " ('Fantasy', 39),\n",
       " ('Astronomy', 41),\n",
       " ('Baseball', 41),\n",
       " ('Islam', 42),\n",
       " ('Buddhism', 48),\n",
       " ('Judaism', 49),\n",
       " ('Hockey', 54),\n",
       " ('Garden', 54),\n",
       " ('Home', 59),\n",
       " ('Earth', 60),\n",
       " ('Stories', 68),\n",
       " ('Learning', 72),\n",
       " ('Manga', 78),\n",
       " ('Wrestling', 79),\n",
       " ('Automotive', 79),\n",
       " ('Animation', 80),\n",
       " ('Language', 81),\n",
       " ('Basketball', 83),\n",
       " ('Stand-up', 86),\n",
       " ('Animals', 88),\n",
       " ('After-Shows', 90),\n",
       " ('Pets', 92),\n",
       " ('Wilderness', 105),\n",
       " ('Drama', 116),\n",
       " ('Daily', 120),\n",
       " ('Soccer', 130),\n",
       " ('Courses', 151),\n",
       " ('Football', 159),\n",
       " ('Beauty', 162),\n",
       " ('Fashion', 165),\n",
       " ('Life', 170),\n",
       " ('Nature', 172),\n",
       " ('Design', 172),\n",
       " ('Video Games', 192),\n",
       " ('Nutrition', 194),\n",
       " ('Non-profit', 208),\n",
       " ('Natural', 210),\n",
       " ('Food', 231),\n",
       " ('Sexuality', 235),\n",
       " ('Visual', 259),\n",
       " ('Improv', 276),\n",
       " ('Government', 277),\n",
       " ('Investing', 299),\n",
       " ('How To', 317),\n",
       " ('Social', 323),\n",
       " ('Parenting', 334),\n",
       " ('Marketing', 354),\n",
       " ('Management', 364),\n",
       " ('Alternative', 366),\n",
       " ('Entertainment', 370),\n",
       " ('True Crime', 384),\n",
       " ('Documentary', 400),\n",
       " ('Fiction', 421),\n",
       " ('Careers', 434),\n",
       " ('Travel', 436),\n",
       " ('Books', 442),\n",
       " ('Games', 457),\n",
       " ('Places', 459),\n",
       " ('Hobbies', 481),\n",
       " ('Commentary', 498),\n",
       " ('Performing', 507),\n",
       " ('Christianity', 516),\n",
       " ('Relationships', 520),\n",
       " ('Reviews', 526),\n",
       " ('Philosophy', 528),\n",
       " ('Medicine', 530),\n",
       " ('Politics', 549),\n",
       " ('Technology', 563),\n",
       " ('Journals', 625),\n",
       " ('Music', 637),\n",
       " ('Personal', 671),\n",
       " ('Interviews', 672),\n",
       " ('Mental', 746),\n",
       " ('Family', 746),\n",
       " ('Entrepreneurship', 747),\n",
       " ('Kids', 770),\n",
       " ('History', 807),\n",
       " ('Sports', 1092),\n",
       " ('Leisure', 1119),\n",
       " ('Spirituality', 1237),\n",
       " ('Religion', 1254),\n",
       " ('Self Improvement', 1277),\n",
       " ('Film', 1332),\n",
       " ('Tv', 1341),\n",
       " ('Science', 1425),\n",
       " ('Comedy', 1809),\n",
       " ('Arts', 2077),\n",
       " ('Fitness', 2295),\n",
       " ('News', 2361),\n",
       " ('Health', 2405),\n",
       " ('Business', 2484),\n",
       " ('Education', 2971),\n",
       " ('Culture', 4025),\n",
       " ('Society', 4081)]"
      ]
     },
     "execution_count": 8,
     "metadata": {},
     "output_type": "execute_result"
    }
   ],
   "source": [
    "count_list # not a lot of people are into swimming i guess"
   ]
  },
  {
   "cell_type": "code",
   "execution_count": 9,
   "id": "e5476963",
   "metadata": {},
   "outputs": [
    {
     "data": {
      "text/plain": [
       "<BarContainer object of 106 artists>"
      ]
     },
     "execution_count": 9,
     "metadata": {},
     "output_type": "execute_result"
    },
    {
     "data": {
      "image/png": "[encoded data removed]",
      "text/plain": [
       "<Figure size 640x480 with 1 Axes>"
      ]
     },
     "metadata": {},
     "output_type": "display_data"
    }
   ],
   "source": [
    "#messy, but captures the picture\n",
    "plt.bar([x[0] for x in count_list],[x[1] for x in count_list])"
   ]
  },
  {
   "cell_type": "code",
   "execution_count": 10,
   "id": "d6240b82",
   "metadata": {},
   "outputs": [
    {
     "data": {
      "text/plain": [
       "[('Society', 4081),\n",
       " ('Culture', 4025),\n",
       " ('Education', 2971),\n",
       " ('Business', 2484),\n",
       " ('Health', 2405),\n",
       " ('News', 2361),\n",
       " ('Fitness', 2295),\n",
       " ('Arts', 2077),\n",
       " ('Comedy', 1809),\n",
       " ('Science', 1425)]"
      ]
     },
     "execution_count": 10,
     "metadata": {},
     "output_type": "execute_result"
    }
   ],
   "source": [
    "top10_categories = count_list[-10:][::-1]\n",
    "top10_categories"
   ]
  },
  {
   "cell_type": "code",
   "execution_count": 12,
   "id": "3371fe35",
   "metadata": {},
   "outputs": [
    {
     "data": {
      "text/plain": [
       "[('Swimming', 2),\n",
       " ('Hinduism', 4),\n",
       " ('Cricket', 5),\n",
       " ('Crafts', 11),\n",
       " ('Aviation', 12),\n",
       " ('Mathematics', 13),\n",
       " ('Rugby', 15),\n",
       " ('Tennis', 16),\n",
       " ('Golf', 17),\n",
       " ('Chemistry', 18)]"
      ]
     },
     "execution_count": 12,
     "metadata": {},
     "output_type": "execute_result"
    }
   ],
   "source": [
    "top10_least_popular = count_list[:10]\n",
    "top10_least_popular"
   ]
  },
  {
   "cell_type": "code",
   "execution_count": 13,
   "id": "385d382c",
   "metadata": {},
   "outputs": [],
   "source": [
    "#what about percentage of categories\n",
    "total = [i[1] for i in count_list]\n",
    "total = reduce(lambda x,y: x+y,total)\n",
    "total\n",
    "percentages_list = [(a[0],a[1]*100/total) for a in count_list] \n",
    "percentages_list = sorted(percentages_list,key=lambda x:x[1],reverse=True)"
   ]
  },
  {
   "cell_type": "code",
   "execution_count": 14,
   "id": "273cc47f",
   "metadata": {},
   "outputs": [
    {
     "data": {
      "text/plain": [
       "[('Society', 7.069237298411544),\n",
       " ('Culture', 6.972232326906754),\n",
       " ('Education', 5.146460184655893),\n",
       " ('Business', 4.3028633788910255),\n",
       " ('Health', 4.166017079803911),\n",
       " ('News', 4.089798887907291),\n",
       " ('Fitness', 3.9754716000623604),\n",
       " ('Arts', 3.5978451038472863),\n",
       " ('Comedy', 3.1336070259315076),\n",
       " ('Science', 2.468430078470093),\n",
       " ('Tv', 2.3229226212129084),\n",
       " ('Film', 2.307332536506782),\n",
       " ('Self Improvement', 2.212059796636006),\n",
       " ('Religion', 2.1722184690536817),\n",
       " ('Spirituality', 2.1427705312754424),\n",
       " ('Leisure', 1.9383671984617783),\n",
       " ('Sports', 1.8915969443433975),\n",
       " ('History', 1.397910928649379),\n",
       " ('Kids', 1.3338183581908574),\n",
       " ('Entrepreneurship', 1.293977030608533),\n",
       " ('Mental', 1.292244798974519),\n",
       " ('Family', 1.292244798974519),\n",
       " ('Interviews', 1.1640596580574754),\n",
       " ('Personal', 1.1623274264234613),\n",
       " ('Music', 1.1034315508669819),\n",
       " ('Journals', 1.0826447712588128),\n",
       " ('Technology', 0.9752464099499385),\n",
       " ('Politics', 0.9509951670737411),\n",
       " ('Medicine', 0.9180827660274732),\n",
       " ('Philosophy', 0.914618302759445),\n",
       " ('Reviews', 0.9111538394914168),\n",
       " ('Relationships', 0.9007604496873322),\n",
       " ('Christianity', 0.8938315231512758),\n",
       " ('Performing', 0.8782414384451489),\n",
       " ('Commentary', 0.862651353739022),\n",
       " ('Hobbies', 0.8332034159607823),\n",
       " ('Places', 0.795094320012472),\n",
       " ('Games', 0.7916298567444439),\n",
       " ('Books', 0.7656463822342323),\n",
       " ('Travel', 0.7552529924301478),\n",
       " ('Careers', 0.7517885291621196),\n",
       " ('Fiction', 0.7292695179199362),\n",
       " ('Documentary', 0.6928926536056401),\n",
       " ('True Crime', 0.6651769474614145),\n",
       " ('Entertainment', 0.6409257045852171),\n",
       " ('Alternative', 0.6339967780491608),\n",
       " ('Management', 0.6305323147811326),\n",
       " ('Marketing', 0.6132099984409916),\n",
       " ('Parenting', 0.5785653657607095),\n",
       " ('Social', 0.5595108177865544),\n",
       " ('How To', 0.5491174279824698),\n",
       " ('Investing', 0.517937258570216),\n",
       " ('Government', 0.4798281626219058),\n",
       " ('Improv', 0.4780959309878917),\n",
       " ('Visual', 0.448647993209652),\n",
       " ('Sexuality', 0.4070744339933136),\n",
       " ('Food', 0.4001455074572572),\n",
       " ('Natural', 0.3637686431429611),\n",
       " ('Non-profit', 0.36030417987493285),\n",
       " ('Nutrition', 0.33605293699873545),\n",
       " ('Video Games', 0.33258847373070727),\n",
       " ('Nature', 0.29794384105042526),\n",
       " ('Design', 0.29794384105042526),\n",
       " ('Life', 0.2944793777823971),\n",
       " ('Fashion', 0.28581821961232656),\n",
       " ('Beauty', 0.2806215247102843),\n",
       " ('Football', 0.27542482980824196),\n",
       " ('Courses', 0.26156697673612916),\n",
       " ('Soccer', 0.22519011242183304),\n",
       " ('Daily', 0.20786779608169204),\n",
       " ('Drama', 0.20093886954563564),\n",
       " ('Wilderness', 0.18188432157148055),\n",
       " ('Pets', 0.15936531032929724),\n",
       " ('After-Shows', 0.15590084706126903),\n",
       " ('Animals', 0.15243638379324084),\n",
       " ('Stand-up', 0.14897192052521263),\n",
       " ('Basketball', 0.14377522562317033),\n",
       " ('Language', 0.14031076235514214),\n",
       " ('Animation', 0.13857853072112802),\n",
       " ('Wrestling', 0.13684629908711393),\n",
       " ('Automotive', 0.13684629908711393),\n",
       " ('Manga', 0.13511406745309984),\n",
       " ('Learning', 0.12472067764901523),\n",
       " ('Stories', 0.11779175111295882),\n",
       " ('Earth', 0.10393389804084602),\n",
       " ('Home', 0.10220166640683193),\n",
       " ('Hockey', 0.09354050823676142),\n",
       " ('Garden', 0.09354050823676142),\n",
       " ('Judaism', 0.08487935006669092),\n",
       " ('Buddhism', 0.08314711843267682),\n",
       " ('Islam', 0.07275372862859221),\n",
       " ('Astronomy', 0.07102149699457812),\n",
       " ('Baseball', 0.07102149699457812),\n",
       " ('Fantasy', 0.06755703372654992),\n",
       " ('Physics', 0.06062810719049351),\n",
       " ('Running', 0.05196694902042301),\n",
       " ('Chemistry', 0.031180169412253808),\n",
       " ('Golf', 0.029447937778239706),\n",
       " ('Tennis', 0.027715706144225607),\n",
       " ('Rugby', 0.025983474510211504),\n",
       " ('Mathematics', 0.022519011242183303),\n",
       " ('Aviation', 0.020786779608169204),\n",
       " ('Crafts', 0.019054547974155105),\n",
       " ('Cricket', 0.008661158170070501),\n",
       " ('Hinduism', 0.006928926536056402),\n",
       " ('Swimming', 0.003464463268028201)]"
      ]
     },
     "execution_count": 14,
     "metadata": {},
     "output_type": "execute_result"
    }
   ],
   "source": [
    "percentages_list"
   ]
  },
  {
   "cell_type": "code",
   "execution_count": null,
   "id": "63ead3f0",
   "metadata": {},
   "outputs": [],
   "source": []
  }
 ],
 "metadata": {
  "kernelspec": {
   "display_name": "Python 3 (ipykernel)",
   "language": "python",
   "name": "python3"
  },
  "language_info": {
   "codemirror_mode": {
    "name": "ipython",
    "version": 3
   },
   "file_extension": ".py",
   "mimetype": "text/x-python",
   "name": "python",
   "nbconvert_exporter": "python",
   "pygments_lexer": "ipython3",
   "version": "3.12.2"
  }
 },
 "nbformat": 4,
 "nbformat_minor": 5
}
