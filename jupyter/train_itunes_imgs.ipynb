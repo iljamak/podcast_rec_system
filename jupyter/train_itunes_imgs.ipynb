{
 "cells": [
  {
   "cell_type": "code",
   "execution_count": 2,
   "id": "524607c8",
   "metadata": {},
   "outputs": [],
   "source": [
    "import pandas as pd\n",
    "import numpy as np\n",
    "import requests\n",
    "from bs4 import BeautifulSoup\n",
    "\n",
    "import re\n",
    "import os\n",
    "import sys\n",
    "import csv\n",
    "import time\n",
    "'''\n",
    "Notebook might not work as expected, because i was moving it, so paths might be incoherent. All datasets are now stored in \n",
    "    \"main/datasets\"\n",
    "\n",
    "Here i was trying to research, how to extract pictures from podtail(web, which i was usign to scrape data)\n",
    "Based on my trials i implemented a scrapping script, somwhere in data\n",
    "This file is not important\n",
    "'''\n",
    "dataset = pd.read_csv(\"PodRec/final_podcasts_en_processed2.csv\")\n",
    "# https://podcasts.apple.com/podcast/id\n",
    "itunes_ids = dataset['itunes_id']\n"
   ]
  },
  {
   "cell_type": "code",
   "execution_count": 11,
   "id": "ca864f0f",
   "metadata": {},
   "outputs": [
    {
     "data": {
      "text/html": [
       "<div>\n",
       "<style scoped>\n",
       "    .dataframe tbody tr th:only-of-type {\n",
       "        vertical-align: middle;\n",
       "    }\n",
       "\n",
       "    .dataframe tbody tr th {\n",
       "        vertical-align: top;\n",
       "    }\n",
       "\n",
       "    .dataframe thead th {\n",
       "        text-align: right;\n",
       "    }\n",
       "</style>\n",
       "<table border=\"1\" class=\"dataframe\">\n",
       "  <thead>\n",
       "    <tr style=\"text-align: right;\">\n",
       "      <th></th>\n",
       "      <th>Unnamed: 0</th>\n",
       "      <th>podcast_name</th>\n",
       "      <th>podtail_link</th>\n",
       "      <th>itunes_id</th>\n",
       "      <th>podcastindex_id</th>\n",
       "      <th>description</th>\n",
       "      <th>rss_link</th>\n",
       "      <th>language</th>\n",
       "      <th>categories</th>\n",
       "      <th>number_of_podcasts</th>\n",
       "      <th>index_description</th>\n",
       "    </tr>\n",
       "  </thead>\n",
       "  <tbody>\n",
       "    <tr>\n",
       "      <th>6849</th>\n",
       "      <td>6849</td>\n",
       "      <td>Thrive Diaries</td>\n",
       "      <td>https://podtail.com/podcast/vegan-diaries/</td>\n",
       "      <td>1584478302</td>\n",
       "      <td>4238712</td>\n",
       "      <td>The lifestyle podcast for busy people who want...</td>\n",
       "      <td>https://feeds.buzzsprout.com/1844029.rss</td>\n",
       "      <td>en-au</td>\n",
       "      <td>Education,Self Improvement</td>\n",
       "      <td>83.0</td>\n",
       "      <td>[20, 4597, 10696, 14, 3698, 64, 66, 389, 5, 76...</td>\n",
       "    </tr>\n",
       "  </tbody>\n",
       "</table>\n",
       "</div>"
      ],
      "text/plain": [
       "      Unnamed: 0    podcast_name                                podtail_link  \\\n",
       "6849        6849  Thrive Diaries  https://podtail.com/podcast/vegan-diaries/   \n",
       "\n",
       "       itunes_id  podcastindex_id  \\\n",
       "6849  1584478302          4238712   \n",
       "\n",
       "                                            description  \\\n",
       "6849  The lifestyle podcast for busy people who want...   \n",
       "\n",
       "                                      rss_link language  \\\n",
       "6849  https://feeds.buzzsprout.com/1844029.rss    en-au   \n",
       "\n",
       "                      categories  number_of_podcasts  \\\n",
       "6849  Education,Self Improvement                83.0   \n",
       "\n",
       "                                      index_description  \n",
       "6849  [20, 4597, 10696, 14, 3698, 64, 66, 389, 5, 76...  "
      ]
     },
     "execution_count": 11,
     "metadata": {},
     "output_type": "execute_result"
    }
   ],
   "source": [
    "dataset[dataset['itunes_id']==1584478302]"
   ]
  },
  {
   "cell_type": "code",
   "execution_count": 12,
   "id": "865940a2",
   "metadata": {},
   "outputs": [],
   "source": [
    "text = response.text"
   ]
  },
  {
   "cell_type": "code",
   "execution_count": 14,
   "id": "a633a781",
   "metadata": {},
   "outputs": [],
   "source": [
    "bs = BeautifulSoup(text,'html.parser')"
   ]
  },
  {
   "cell_type": "code",
   "execution_count": 33,
   "id": "740bd311",
   "metadata": {},
   "outputs": [
    {
     "name": "stdout",
     "output_type": "stream",
     "text": [
      "https://is1-ssl.mzstatic.com/image/thumb/Podcasts126/v4/92/fe/9b/92fe9b92-71ce-2db3-d7bc-341734439c5b/mza_17334163224187182080.jpeg/268x0w.webp\n"
     ]
    }
   ],
   "source": [
    "res = bs.find(class_=\"we-artwork we-artwork--downloaded product-artwork product-artwork--bottom-separator product-artwork--captioned we-artwork--fullwidth\")\n",
    "srcset = res.find('source')['srcset']\n",
    "match = re.search(r'https://[^\\s,]+?\\.webp', srcset)\n",
    "\n",
    "# Get the matched URL\n",
    "if match:\n",
    "    first_url = match.group()\n",
    "    print(first_url)\n",
    "else:\n",
    "    print(\"No match found.\")"
   ]
  },
  {
   "cell_type": "code",
   "execution_count": null,
   "id": "f98bceb9",
   "metadata": {},
   "outputs": [],
   "source": []
  }
 ],
 "metadata": {
  "kernelspec": {
   "display_name": "Python 3 (ipykernel)",
   "language": "python",
   "name": "python3"
  },
  "language_info": {
   "codemirror_mode": {
    "name": "ipython",
    "version": 3
   },
   "file_extension": ".py",
   "mimetype": "text/x-python",
   "name": "python",
   "nbconvert_exporter": "python",
   "pygments_lexer": "ipython3",
   "version": "3.10.9"
  }
 },
 "nbformat": 4,
 "nbformat_minor": 5
}
